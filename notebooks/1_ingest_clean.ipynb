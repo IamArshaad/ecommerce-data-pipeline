{
 "cells": [
  {
   "cell_type": "code",
   "execution_count": 0,
   "metadata": {
    "application/vnd.databricks.v1+cell": {
     "cellMetadata": {
      "byteLimit": 2048000,
      "rowLimit": 10000
     },
     "inputWidgets": {},
     "nuid": "7a05b123-8c93-4e6d-8e33-76f90645435e",
     "showTitle": false,
     "tableResultSettingsMap": {},
     "title": ""
    }
   },
   "outputs": [],
   "source": [
    "# imports\n",
    "from pyspark.sql import functions as F\n",
    "from pyspark.sql.types import IntegerType, DoubleType, DateType, StringType\n"
   ]
  },
  {
   "cell_type": "code",
   "execution_count": 0,
   "metadata": {
    "application/vnd.databricks.v1+cell": {
     "cellMetadata": {
      "byteLimit": 2048000,
      "rowLimit": 10000
     },
     "inputWidgets": {},
     "nuid": "7fa867fa-c1b0-4f05-954d-04d5e6ff8927",
     "showTitle": false,
     "tableResultSettingsMap": {},
     "title": ""
    }
   },
   "outputs": [
    {
     "output_type": "stream",
     "name": "stdout",
     "output_type": "stream",
     "text": [
      "orders rows: 5397\ncustomers rows: 500\nproducts rows: 200\n"
     ]
    },
    {
     "output_type": "display_data",
     "data": {
      "text/html": [
       "<style scoped>\n",
       "  .table-result-container {\n",
       "    max-height: 300px;\n",
       "    overflow: auto;\n",
       "  }\n",
       "  table, th, td {\n",
       "    border: 1px solid black;\n",
       "    border-collapse: collapse;\n",
       "  }\n",
       "  th, td {\n",
       "    padding: 5px;\n",
       "  }\n",
       "  th {\n",
       "    text-align: left;\n",
       "  }\n",
       "</style><div class='table-result-container'><table class='table-result'><thead style='background-color: white'><tr><th>order_id</th><th>customer_id</th><th>order_date</th><th>product_id</th><th>quantity</th><th>price</th><th>channel</th><th>order_status</th></tr></thead><tbody><tr><td>1</td><td>88</td><td>2024-01-01</td><td>104</td><td>1</td><td>57.75</td><td>web</td><td>completed</td></tr><tr><td>2</td><td>239</td><td>2024-01-01</td><td>182</td><td>2</td><td>25.28</td><td>store</td><td>completed</td></tr><tr><td>3</td><td>180</td><td>2024-01-01</td><td>139</td><td>2</td><td>115.65</td><td>mobile</td><td>completed</td></tr><tr><td>4</td><td>412</td><td>2024-01-01</td><td>181</td><td>2</td><td>110.29</td><td>web</td><td>completed</td></tr><tr><td>5</td><td>35</td><td>2024-01-01</td><td>79</td><td>1</td><td>108.2</td><td>store</td><td>completed</td></tr></tbody></table></div>"
      ]
     },
     "metadata": {
      "application/vnd.databricks.v1+output": {
       "addedWidgets": {},
       "aggData": [],
       "aggError": "",
       "aggOverflow": false,
       "aggSchema": [],
       "aggSeriesLimitReached": false,
       "aggType": "",
       "arguments": {},
       "columnCustomDisplayInfos": {},
       "data": [
        [
         1,
         88,
         "2024-01-01",
         104,
         1,
         57.75,
         "web",
         "completed"
        ],
        [
         2,
         239,
         "2024-01-01",
         182,
         2,
         25.28,
         "store",
         "completed"
        ],
        [
         3,
         180,
         "2024-01-01",
         139,
         2,
         115.65,
         "mobile",
         "completed"
        ],
        [
         4,
         412,
         "2024-01-01",
         181,
         2,
         110.29,
         "web",
         "completed"
        ],
        [
         5,
         35,
         "2024-01-01",
         79,
         1,
         108.2,
         "store",
         "completed"
        ]
       ],
       "datasetInfos": [],
       "dbfsResultPath": null,
       "isJsonSchema": true,
       "metadata": {},
       "overflow": false,
       "plotOptions": {
        "customPlotOptions": {},
        "displayType": "table",
        "pivotAggregation": null,
        "pivotColumns": null,
        "xColumns": null,
        "yColumns": null
       },
       "removedWidgets": [],
       "schema": [
        {
         "metadata": "{}",
         "name": "order_id",
         "type": "\"integer\""
        },
        {
         "metadata": "{}",
         "name": "customer_id",
         "type": "\"integer\""
        },
        {
         "metadata": "{\"__detected_date_formats\": \"yyyy-M-d\"}",
         "name": "order_date",
         "type": "\"date\""
        },
        {
         "metadata": "{}",
         "name": "product_id",
         "type": "\"integer\""
        },
        {
         "metadata": "{}",
         "name": "quantity",
         "type": "\"integer\""
        },
        {
         "metadata": "{}",
         "name": "price",
         "type": "\"double\""
        },
        {
         "metadata": "{}",
         "name": "channel",
         "type": "\"string\""
        },
        {
         "metadata": "{}",
         "name": "order_status",
         "type": "\"string\""
        }
       ],
       "type": "table"
      }
     },
     "output_type": "display_data"
    }
   ],
   "source": [
    "# read raw CSVs\n",
    "orders = spark.read.option(\"header\",True).option(\"inferSchema\",True).csv(\"/Volumes/workspace/default/ecom-learning/orders.csv\")\n",
    "customers = spark.read.option(\"header\",True).csv(\"/Volumes/workspace/default/ecom-learning/customers.csv\")\n",
    "products = spark.read.option(\"header\",True).csv(\"/Volumes/workspace/default/ecom-learning/products.csv\")\n",
    "\n",
    "print(\"orders rows:\", orders.count())\n",
    "print(\"customers rows:\", customers.count())\n",
    "print(\"products rows:\", products.count())\n",
    "\n",
    "display(orders.limit(5))\n"
   ]
  },
  {
   "cell_type": "code",
   "execution_count": 0,
   "metadata": {
    "application/vnd.databricks.v1+cell": {
     "cellMetadata": {
      "byteLimit": 2048000,
      "rowLimit": 10000
     },
     "inputWidgets": {},
     "nuid": "a8565e42-5045-4262-b018-a8407fa418ed",
     "showTitle": false,
     "tableResultSettingsMap": {},
     "title": ""
    }
   },
   "outputs": [
    {
     "output_type": "stream",
     "name": "stdout",
     "output_type": "stream",
     "text": [
      "orders schema:\nroot\n |-- order_id: integer (nullable = true)\n |-- customer_id: integer (nullable = true)\n |-- order_date: date (nullable = true)\n |-- product_id: integer (nullable = true)\n |-- quantity: integer (nullable = true)\n |-- price: double (nullable = true)\n |-- channel: string (nullable = true)\n |-- order_status: string (nullable = true)\n\n"
     ]
    },
    {
     "output_type": "display_data",
     "data": {
      "text/html": [
       "<style scoped>\n",
       "  .table-result-container {\n",
       "    max-height: 300px;\n",
       "    overflow: auto;\n",
       "  }\n",
       "  table, th, td {\n",
       "    border: 1px solid black;\n",
       "    border-collapse: collapse;\n",
       "  }\n",
       "  th, td {\n",
       "    padding: 5px;\n",
       "  }\n",
       "  th {\n",
       "    text-align: left;\n",
       "  }\n",
       "</style><div class='table-result-container'><table class='table-result'><thead style='background-color: white'><tr><th>order_id</th><th>customer_id</th><th>order_date</th><th>product_id</th><th>quantity</th><th>price</th><th>channel</th><th>order_status</th></tr></thead><tbody></tbody></table></div>"
      ]
     },
     "metadata": {
      "application/vnd.databricks.v1+output": {
       "addedWidgets": {},
       "aggData": [],
       "aggError": "",
       "aggOverflow": false,
       "aggSchema": [],
       "aggSeriesLimitReached": false,
       "aggType": "",
       "arguments": {},
       "columnCustomDisplayInfos": {},
       "data": [],
       "datasetInfos": [],
       "dbfsResultPath": null,
       "isJsonSchema": true,
       "metadata": {},
       "overflow": false,
       "plotOptions": {
        "customPlotOptions": {},
        "displayType": "table",
        "pivotAggregation": null,
        "pivotColumns": null,
        "xColumns": null,
        "yColumns": null
       },
       "removedWidgets": [],
       "schema": [
        {
         "metadata": "{}",
         "name": "order_id",
         "type": "\"integer\""
        },
        {
         "metadata": "{}",
         "name": "customer_id",
         "type": "\"integer\""
        },
        {
         "metadata": "{}",
         "name": "order_date",
         "type": "\"date\""
        },
        {
         "metadata": "{}",
         "name": "product_id",
         "type": "\"integer\""
        },
        {
         "metadata": "{}",
         "name": "quantity",
         "type": "\"integer\""
        },
        {
         "metadata": "{}",
         "name": "price",
         "type": "\"double\""
        },
        {
         "metadata": "{}",
         "name": "channel",
         "type": "\"string\""
        },
        {
         "metadata": "{}",
         "name": "order_status",
         "type": "\"string\""
        }
       ],
       "type": "table"
      }
     },
     "output_type": "display_data"
    }
   ],
   "source": [
    "# basic casting and cleaning\n",
    "orders = orders.withColumn(\"order_date\", F.to_date(F.col(\"order_date\"), \"yyyy-MM-dd\")) \\\n",
    "               .withColumn(\"quantity\", F.col(\"quantity\").cast(IntegerType())) \\\n",
    "               .withColumn(\"price\", F.col(\"price\").cast(DoubleType()))\n",
    "\n",
    "# remove exact duplicate order_id rows (if any)\n",
    "orders = orders.dropDuplicates([\"order_id\"])\n",
    "\n",
    "# sanity checks\n",
    "print(\"orders schema:\")\n",
    "orders.printSchema()\n",
    "display(orders.filter(F.col(\"order_status\").isNull()).limit(5))\n"
   ]
  },
  {
   "cell_type": "code",
   "execution_count": 0,
   "metadata": {
    "application/vnd.databricks.v1+cell": {
     "cellMetadata": {
      "byteLimit": 2048000,
      "implicitDf": true,
      "rowLimit": 10000
     },
     "inputWidgets": {},
     "nuid": "f837fb34-7ebe-47e2-96d5-86b5f6a2050d",
     "showTitle": false,
     "tableResultSettingsMap": {},
     "title": ""
    }
   },
   "outputs": [
    {
     "output_type": "display_data",
     "data": {
      "text/html": [
       "<style scoped>\n",
       "  .table-result-container {\n",
       "    max-height: 300px;\n",
       "    overflow: auto;\n",
       "  }\n",
       "  table, th, td {\n",
       "    border: 1px solid black;\n",
       "    border-collapse: collapse;\n",
       "  }\n",
       "  th, td {\n",
       "    padding: 5px;\n",
       "  }\n",
       "  th {\n",
       "    text-align: left;\n",
       "  }\n",
       "</style><div class='table-result-container'><table class='table-result'><thead style='background-color: white'><tr><th>order_id</th><th>order_date</th><th>customer_id</th><th>product_id</th><th>quantity</th><th>price</th><th>revenue</th><th>product_name</th><th>category</th></tr></thead><tbody><tr><td>1021</td><td>2024-02-03</td><td>252</td><td>63</td><td>1</td><td>293.65</td><td>293.65</td><td>Product_63</td><td>Toys</td></tr><tr><td>2737</td><td>2024-04-02</td><td>228</td><td>147</td><td>1</td><td>22.25</td><td>22.25</td><td>Product_147</td><td>Beauty</td></tr><tr><td>2936</td><td>2024-04-09</td><td>478</td><td>135</td><td>1</td><td>12.12</td><td>12.12</td><td>Product_135</td><td>Electronics</td></tr><tr><td>3139</td><td>2024-04-16</td><td>6</td><td>180</td><td>1</td><td>71.31</td><td>71.31</td><td>Product_180</td><td>Electronics</td></tr><tr><td>3683</td><td>2024-05-03</td><td>52</td><td>28</td><td>1</td><td>26.49</td><td>26.49</td><td>Product_28</td><td>Electronics</td></tr><tr><td>4366</td><td>2024-05-27</td><td>162</td><td>116</td><td>3</td><td>137.68</td><td>413.04</td><td>Product_116</td><td>Home</td></tr><tr><td>4885</td><td>2024-06-13</td><td>261</td><td>192</td><td>1</td><td>24.17</td><td>24.17</td><td>Product_192</td><td>Home</td></tr><tr><td>5156</td><td>2024-06-22</td><td>383</td><td>92</td><td>1</td><td>133.41</td><td>133.41</td><td>Product_92</td><td>Home</td></tr><tr><td>94</td><td>2024-01-04</td><td>240</td><td>66</td><td>3</td><td>10.74</td><td>32.22</td><td>Product_66</td><td>Beauty</td></tr><tr><td>1721</td><td>2024-02-26</td><td>52</td><td>168</td><td>1</td><td>119.68</td><td>119.68</td><td>Product_168</td><td>Toys</td></tr></tbody></table></div>"
      ]
     },
     "metadata": {
      "application/vnd.databricks.v1+output": {
       "addedWidgets": {},
       "aggData": [],
       "aggError": "",
       "aggOverflow": false,
       "aggSchema": [],
       "aggSeriesLimitReached": false,
       "aggType": "",
       "arguments": {},
       "columnCustomDisplayInfos": {},
       "data": [
        [
         1021,
         "2024-02-03",
         252,
         63,
         1,
         293.65,
         293.65,
         "Product_63",
         "Toys"
        ],
        [
         2737,
         "2024-04-02",
         228,
         147,
         1,
         22.25,
         22.25,
         "Product_147",
         "Beauty"
        ],
        [
         2936,
         "2024-04-09",
         478,
         135,
         1,
         12.12,
         12.12,
         "Product_135",
         "Electronics"
        ],
        [
         3139,
         "2024-04-16",
         6,
         180,
         1,
         71.31,
         71.31,
         "Product_180",
         "Electronics"
        ],
        [
         3683,
         "2024-05-03",
         52,
         28,
         1,
         26.49,
         26.49,
         "Product_28",
         "Electronics"
        ],
        [
         4366,
         "2024-05-27",
         162,
         116,
         3,
         137.68,
         413.04,
         "Product_116",
         "Home"
        ],
        [
         4885,
         "2024-06-13",
         261,
         192,
         1,
         24.17,
         24.17,
         "Product_192",
         "Home"
        ],
        [
         5156,
         "2024-06-22",
         383,
         92,
         1,
         133.41,
         133.41,
         "Product_92",
         "Home"
        ],
        [
         94,
         "2024-01-04",
         240,
         66,
         3,
         10.74,
         32.22,
         "Product_66",
         "Beauty"
        ],
        [
         1721,
         "2024-02-26",
         52,
         168,
         1,
         119.68,
         119.68,
         "Product_168",
         "Toys"
        ]
       ],
       "datasetInfos": [],
       "dbfsResultPath": null,
       "isJsonSchema": true,
       "metadata": {},
       "overflow": false,
       "plotOptions": {
        "customPlotOptions": {},
        "displayType": "table",
        "pivotAggregation": null,
        "pivotColumns": null,
        "xColumns": null,
        "yColumns": null
       },
       "removedWidgets": [],
       "schema": [
        {
         "metadata": "{}",
         "name": "order_id",
         "type": "\"integer\""
        },
        {
         "metadata": "{}",
         "name": "order_date",
         "type": "\"date\""
        },
        {
         "metadata": "{}",
         "name": "customer_id",
         "type": "\"integer\""
        },
        {
         "metadata": "{}",
         "name": "product_id",
         "type": "\"integer\""
        },
        {
         "metadata": "{}",
         "name": "quantity",
         "type": "\"integer\""
        },
        {
         "metadata": "{}",
         "name": "price",
         "type": "\"double\""
        },
        {
         "metadata": "{}",
         "name": "revenue",
         "type": "\"double\""
        },
        {
         "metadata": "{}",
         "name": "product_name",
         "type": "\"string\""
        },
        {
         "metadata": "{}",
         "name": "category",
         "type": "\"string\""
        }
       ],
       "type": "table"
      }
     },
     "output_type": "display_data"
    }
   ],
   "source": [
    "# Cell 4 - compute revenue and join\n",
    "orders = orders.withColumn(\"revenue\", F.col(\"quantity\") * F.col(\"price\"))\n",
    "\n",
    "sales = orders.join(customers, on=\"customer_id\", how=\"left\") \\\n",
    "              .join(products, on=\"product_id\", how=\"left\")\n",
    "\n",
    "display(sales.select(\"order_id\",\"order_date\",\"customer_id\",\"product_id\",\"quantity\",\"price\",\"revenue\",\"product_name\",\"category\").limit(10))\n"
   ]
  },
  {
   "cell_type": "code",
   "execution_count": 0,
   "metadata": {
    "application/vnd.databricks.v1+cell": {
     "cellMetadata": {
      "byteLimit": 2048000,
      "rowLimit": 10000
     },
     "inputWidgets": {},
     "nuid": "e34dc905-815f-455e-8388-f6a9f2c1eb7c",
     "showTitle": false,
     "tableResultSettingsMap": {},
     "title": ""
    }
   },
   "outputs": [
    {
     "output_type": "execute_result",
     "data": {
      "text/html": [
       "<div>\n",
       "<style scoped>\n",
       "    .dataframe tbody tr th:only-of-type {\n",
       "        vertical-align: middle;\n",
       "    }\n",
       "\n",
       "    .dataframe tbody tr th {\n",
       "        vertical-align: top;\n",
       "    }\n",
       "\n",
       "    .dataframe thead th {\n",
       "        text-align: right;\n",
       "    }\n",
       "</style>\n",
       "<table border=\"1\" class=\"dataframe\">\n",
       "  <thead>\n",
       "    <tr style=\"text-align: right;\">\n",
       "      <th></th>\n",
       "      <th>product_id</th>\n",
       "      <th>customer_id</th>\n",
       "      <th>order_id</th>\n",
       "      <th>order_date</th>\n",
       "      <th>quantity</th>\n",
       "      <th>price</th>\n",
       "      <th>channel</th>\n",
       "      <th>order_status</th>\n",
       "      <th>revenue</th>\n",
       "      <th>name</th>\n",
       "      <th>signup_date</th>\n",
       "      <th>city</th>\n",
       "      <th>state</th>\n",
       "      <th>age_group</th>\n",
       "      <th>product_name</th>\n",
       "      <th>category</th>\n",
       "      <th>cost_price</th>\n",
       "      <th>list_price</th>\n",
       "    </tr>\n",
       "  </thead>\n",
       "  <tbody>\n",
       "    <tr>\n",
       "      <th>0</th>\n",
       "      <td>104</td>\n",
       "      <td>88</td>\n",
       "      <td>1</td>\n",
       "      <td>2024-01-01</td>\n",
       "      <td>1</td>\n",
       "      <td>57.75</td>\n",
       "      <td>web</td>\n",
       "      <td>completed</td>\n",
       "      <td>57.75</td>\n",
       "      <td>Shelia Gregory</td>\n",
       "      <td>2025-07-15</td>\n",
       "      <td>Wardborough</td>\n",
       "      <td>Kansas</td>\n",
       "      <td>26-35</td>\n",
       "      <td>Product_104</td>\n",
       "      <td>Clothing</td>\n",
       "      <td>130.12</td>\n",
       "      <td>329.51</td>\n",
       "    </tr>\n",
       "    <tr>\n",
       "      <th>1</th>\n",
       "      <td>182</td>\n",
       "      <td>239</td>\n",
       "      <td>2</td>\n",
       "      <td>2024-01-01</td>\n",
       "      <td>2</td>\n",
       "      <td>25.28</td>\n",
       "      <td>store</td>\n",
       "      <td>completed</td>\n",
       "      <td>50.56</td>\n",
       "      <td>Teresa Harris</td>\n",
       "      <td>2023-03-07</td>\n",
       "      <td>North Kathy</td>\n",
       "      <td>Missouri</td>\n",
       "      <td>above 55</td>\n",
       "      <td>Product_182</td>\n",
       "      <td>Electronics</td>\n",
       "      <td>190.97</td>\n",
       "      <td>107.09</td>\n",
       "    </tr>\n",
       "    <tr>\n",
       "      <th>2</th>\n",
       "      <td>139</td>\n",
       "      <td>180</td>\n",
       "      <td>3</td>\n",
       "      <td>2024-01-01</td>\n",
       "      <td>2</td>\n",
       "      <td>115.65</td>\n",
       "      <td>mobile</td>\n",
       "      <td>completed</td>\n",
       "      <td>231.30</td>\n",
       "      <td>Michael Simpson</td>\n",
       "      <td>2024-11-23</td>\n",
       "      <td>Kellyton</td>\n",
       "      <td>New Jersey</td>\n",
       "      <td>26-35</td>\n",
       "      <td>Product_139</td>\n",
       "      <td>Clothing</td>\n",
       "      <td>128.26</td>\n",
       "      <td>140.13</td>\n",
       "    </tr>\n",
       "    <tr>\n",
       "      <th>3</th>\n",
       "      <td>181</td>\n",
       "      <td>412</td>\n",
       "      <td>4</td>\n",
       "      <td>2024-01-01</td>\n",
       "      <td>2</td>\n",
       "      <td>110.29</td>\n",
       "      <td>web</td>\n",
       "      <td>completed</td>\n",
       "      <td>220.58</td>\n",
       "      <td>Raymond Robinson</td>\n",
       "      <td>2025-03-27</td>\n",
       "      <td>Lake Johnfurt</td>\n",
       "      <td>New Jersey</td>\n",
       "      <td>above 55</td>\n",
       "      <td>Product_181</td>\n",
       "      <td>Clothing</td>\n",
       "      <td>155.53</td>\n",
       "      <td>268.44</td>\n",
       "    </tr>\n",
       "    <tr>\n",
       "      <th>4</th>\n",
       "      <td>79</td>\n",
       "      <td>35</td>\n",
       "      <td>5</td>\n",
       "      <td>2024-01-01</td>\n",
       "      <td>1</td>\n",
       "      <td>108.20</td>\n",
       "      <td>store</td>\n",
       "      <td>completed</td>\n",
       "      <td>108.20</td>\n",
       "      <td>Curtis Foster</td>\n",
       "      <td>2025-01-04</td>\n",
       "      <td>West Wandatown</td>\n",
       "      <td>Rhode Island</td>\n",
       "      <td>46-55</td>\n",
       "      <td>Product_79</td>\n",
       "      <td>Electronics</td>\n",
       "      <td>182.02</td>\n",
       "      <td>98.98</td>\n",
       "    </tr>\n",
       "    <tr>\n",
       "      <th>5</th>\n",
       "      <td>109</td>\n",
       "      <td>54</td>\n",
       "      <td>6</td>\n",
       "      <td>2024-01-01</td>\n",
       "      <td>1</td>\n",
       "      <td>62.77</td>\n",
       "      <td>mobile</td>\n",
       "      <td>completed</td>\n",
       "      <td>62.77</td>\n",
       "      <td>Jason Zuniga</td>\n",
       "      <td>2024-02-24</td>\n",
       "      <td>Port Amychester</td>\n",
       "      <td>Connecticut</td>\n",
       "      <td>46-55</td>\n",
       "      <td>Product_109</td>\n",
       "      <td>Toys</td>\n",
       "      <td>91.80</td>\n",
       "      <td>305.11</td>\n",
       "    </tr>\n",
       "    <tr>\n",
       "      <th>6</th>\n",
       "      <td>130</td>\n",
       "      <td>42</td>\n",
       "      <td>7</td>\n",
       "      <td>2024-01-01</td>\n",
       "      <td>1</td>\n",
       "      <td>13.99</td>\n",
       "      <td>web</td>\n",
       "      <td>completed</td>\n",
       "      <td>13.99</td>\n",
       "      <td>Amanda Johnson</td>\n",
       "      <td>2024-04-13</td>\n",
       "      <td>Butlerfurt</td>\n",
       "      <td>Ohio</td>\n",
       "      <td>above 55</td>\n",
       "      <td>Product_130</td>\n",
       "      <td>Electronics</td>\n",
       "      <td>151.50</td>\n",
       "      <td>374.59</td>\n",
       "    </tr>\n",
       "    <tr>\n",
       "      <th>7</th>\n",
       "      <td>37</td>\n",
       "      <td>467</td>\n",
       "      <td>8</td>\n",
       "      <td>2024-01-01</td>\n",
       "      <td>1</td>\n",
       "      <td>55.96</td>\n",
       "      <td>store</td>\n",
       "      <td>completed</td>\n",
       "      <td>55.96</td>\n",
       "      <td>Raymond Mclean</td>\n",
       "      <td>2023-06-08</td>\n",
       "      <td>West William</td>\n",
       "      <td>Washington</td>\n",
       "      <td>36-45</td>\n",
       "      <td>Product_37</td>\n",
       "      <td>Electronics</td>\n",
       "      <td>131.04</td>\n",
       "      <td>355.41</td>\n",
       "    </tr>\n",
       "    <tr>\n",
       "      <th>8</th>\n",
       "      <td>164</td>\n",
       "      <td>137</td>\n",
       "      <td>9</td>\n",
       "      <td>2024-01-01</td>\n",
       "      <td>3</td>\n",
       "      <td>144.30</td>\n",
       "      <td>mobile</td>\n",
       "      <td>completed</td>\n",
       "      <td>432.90</td>\n",
       "      <td>Gary Simmons</td>\n",
       "      <td>2025-02-05</td>\n",
       "      <td>West Victor</td>\n",
       "      <td>North Dakota</td>\n",
       "      <td>18-25</td>\n",
       "      <td>Product_164</td>\n",
       "      <td>Electronics</td>\n",
       "      <td>111.16</td>\n",
       "      <td>131.63</td>\n",
       "    </tr>\n",
       "    <tr>\n",
       "      <th>9</th>\n",
       "      <td>147</td>\n",
       "      <td>409</td>\n",
       "      <td>10</td>\n",
       "      <td>2024-01-01</td>\n",
       "      <td>3</td>\n",
       "      <td>65.30</td>\n",
       "      <td>mobile</td>\n",
       "      <td>completed</td>\n",
       "      <td>195.90</td>\n",
       "      <td>Alexandra Johnson</td>\n",
       "      <td>2024-01-06</td>\n",
       "      <td>East Stephenberg</td>\n",
       "      <td>Maine</td>\n",
       "      <td>26-35</td>\n",
       "      <td>Product_147</td>\n",
       "      <td>Beauty</td>\n",
       "      <td>75.85</td>\n",
       "      <td>209.34</td>\n",
       "    </tr>\n",
       "  </tbody>\n",
       "</table>\n",
       "</div>"
      ],
      "text/plain": [
       "   product_id  customer_id  order_id  ...     category  cost_price  list_price\n",
       "0         104           88         1  ...     Clothing      130.12      329.51\n",
       "1         182          239         2  ...  Electronics      190.97      107.09\n",
       "2         139          180         3  ...     Clothing      128.26      140.13\n",
       "3         181          412         4  ...     Clothing      155.53      268.44\n",
       "4          79           35         5  ...  Electronics      182.02       98.98\n",
       "5         109           54         6  ...         Toys       91.80      305.11\n",
       "6         130           42         7  ...  Electronics      151.50      374.59\n",
       "7          37          467         8  ...  Electronics      131.04      355.41\n",
       "8         164          137         9  ...  Electronics      111.16      131.63\n",
       "9         147          409        10  ...       Beauty       75.85      209.34\n",
       "\n",
       "[10 rows x 18 columns]"
      ]
     },
     "execution_count": 46,
     "metadata": {},
     "output_type": "execute_result"
    }
   ],
   "source": [
    "# save as csv (curated)\n",
    "curated_path = \"/Volumes/workspace/default/ecom-learning/sales_curated.csv\"\n",
    "\n",
    "sales.toPandas().to_csv(curated_path, index=False)\n",
    "\n",
    "# read it back to verify\n",
    "import pandas as pd\n",
    "sales_curated = pd.read_csv(curated_path)\n",
    "sales_curated.head(10)"
   ]
  },
  {
   "cell_type": "code",
   "execution_count": 0,
   "metadata": {
    "application/vnd.databricks.v1+cell": {
     "cellMetadata": {
      "byteLimit": 2048000,
      "rowLimit": 10000
     },
     "inputWidgets": {},
     "nuid": "017d38ec-90d4-4769-a60c-b95377e2c0f1",
     "showTitle": false,
     "tableResultSettingsMap": {},
     "title": ""
    }
   },
   "outputs": [
    {
     "output_type": "stream",
     "name": "stdout",
     "output_type": "stream",
     "text": [
      "+-------------------+------------------+----------------+\n|              month|     total_revenue|unique_customers|\n+-------------------+------------------+----------------+\n|2024-01-01 00:00:00|125315.79999999999|             413|\n|2024-02-01 00:00:00|112860.05000000006|             396|\n|2024-03-01 00:00:00|117627.79999999999|             392|\n|2024-04-01 00:00:00|128004.28999999989|             410|\n|2024-05-01 00:00:00|122371.32999999991|             406|\n|2024-06-01 00:00:00|110685.64999999995|             404|\n+-------------------+------------------+----------------+\n\n"
     ]
    }
   ],
   "source": [
    "# Register the sales DataFrame as a temporary view\n",
    "sales.createOrReplaceTempView(\"ecommerce_sales\")\n",
    "\n",
    "# Now run SQL queries on it\n",
    "spark.sql(\"\"\"\n",
    "SELECT date_trunc('month', order_date) AS month,\n",
    "       SUM(revenue) AS total_revenue,\n",
    "       COUNT(DISTINCT customer_id) AS unique_customers\n",
    "FROM ecommerce_sales\n",
    "WHERE order_status = 'completed'\n",
    "GROUP BY month\n",
    "ORDER BY month\n",
    "\"\"\").show()\n"
   ]
  },
  {
   "cell_type": "code",
   "execution_count": 0,
   "metadata": {
    "application/vnd.databricks.v1+cell": {
     "cellMetadata": {
      "byteLimit": 2048000,
      "rowLimit": 10000
     },
     "inputWidgets": {},
     "nuid": "a8f602f9-3ea9-4655-a8f7-7fc1504a5585",
     "showTitle": false,
     "tableResultSettingsMap": {},
     "title": ""
    }
   },
   "outputs": [],
   "source": [
    "# simulate an incremental batch (re-run after uploading new orders for real usage)\n",
    "from delta.tables import DeltaTable\n",
    "\n",
    "target_path = curated_path\n",
    "if DeltaTable.isDeltaTable(spark, target_path):\n",
    "    delta_table = DeltaTable.forPath(spark, target_path)\n",
    "    updatesDF = sales # in real pipeline this is new batch data\n",
    "    delta_table.alias(\"t\").merge(\n",
    "        updatesDF.alias(\"s\"),\n",
    "        \"t.order_id = s.order_id\"\n",
    "    ).whenMatchedUpdateAll() \\\n",
    "     .whenNotMatchedInsertAll() \\\n",
    "     .execute()\n",
    "else:\n",
    "    sales.write.format(\"csv\").mode(\"overwrite\").save(target_path)\n"
   ]
  },
  {
   "cell_type": "code",
   "execution_count": 0,
   "metadata": {
    "application/vnd.databricks.v1+cell": {
     "cellMetadata": {
      "byteLimit": 2048000,
      "rowLimit": 10000
     },
     "inputWidgets": {},
     "nuid": "9b7ac7e5-ecdc-4bc1-8017-8ca106b21dfb",
     "showTitle": false,
     "tableResultSettingsMap": {},
     "title": ""
    }
   },
   "outputs": [
    {
     "output_type": "stream",
     "name": "stdout",
     "output_type": "stream",
     "text": [
      "total rows curated: 5397\nduplicates by order_id:\n"
     ]
    },
    {
     "output_type": "display_data",
     "data": {
      "text/html": [
       "<style scoped>\n",
       "  .table-result-container {\n",
       "    max-height: 300px;\n",
       "    overflow: auto;\n",
       "  }\n",
       "  table, th, td {\n",
       "    border: 1px solid black;\n",
       "    border-collapse: collapse;\n",
       "  }\n",
       "  th, td {\n",
       "    padding: 5px;\n",
       "  }\n",
       "  th {\n",
       "    text-align: left;\n",
       "  }\n",
       "</style><div class='table-result-container'><table class='table-result'><thead style='background-color: white'><tr><th>order_id</th><th>c</th></tr></thead><tbody></tbody></table></div>"
      ]
     },
     "metadata": {
      "application/vnd.databricks.v1+output": {
       "addedWidgets": {},
       "aggData": [],
       "aggError": "",
       "aggOverflow": false,
       "aggSchema": [],
       "aggSeriesLimitReached": false,
       "aggType": "",
       "arguments": {},
       "columnCustomDisplayInfos": {},
       "data": [],
       "datasetInfos": [],
       "dbfsResultPath": null,
       "isJsonSchema": true,
       "metadata": {},
       "overflow": false,
       "plotOptions": {
        "customPlotOptions": {},
        "displayType": "table",
        "pivotAggregation": null,
        "pivotColumns": null,
        "xColumns": null,
        "yColumns": null
       },
       "removedWidgets": [],
       "schema": [
        {
         "metadata": "{}",
         "name": "order_id",
         "type": "\"integer\""
        },
        {
         "metadata": "{}",
         "name": "c",
         "type": "\"long\""
        }
       ],
       "type": "table"
      }
     },
     "output_type": "display_data"
    },
    {
     "output_type": "stream",
     "name": "stdout",
     "output_type": "stream",
     "text": [
      "null customer ids: [Row(count(*)=0)]\n"
     ]
    }
   ],
   "source": [
    "# validation checks\n",
    "print(\"total rows curated:\", spark.read.format(\"csv\").load(curated_path).count())\n",
    "print(\"duplicates by order_id:\")\n",
    "display(spark.sql(\"SELECT order_id, count(*) as c FROM ecommerce_sales GROUP BY order_id HAVING c>1\"))\n",
    "print(\"null customer ids:\", spark.sql(\"SELECT count(*) FROM ecommerce_sales WHERE customer_id IS NULL\").collect())\n"
   ]
  },
  {
   "cell_type": "code",
   "execution_count": 0,
   "metadata": {
    "application/vnd.databricks.v1+cell": {
     "cellMetadata": {},
     "inputWidgets": {},
     "nuid": "4d178ed0-58b9-4a1d-9fdc-1e4bbfe94a9e",
     "showTitle": false,
     "tableResultSettingsMap": {},
     "title": ""
    }
   },
   "outputs": [],
   "source": []
  }
 ],
 "metadata": {
  "application/vnd.databricks.v1+notebook": {
   "computePreferences": {
    "hardware": {
     "accelerator": null,
     "gpuPoolId": null,
     "memory": null
    }
   },
   "dashboards": [],
   "environmentMetadata": {
    "base_environment": "",
    "environment_version": "3"
   },
   "inputWidgetPreferences": null,
   "language": "python",
   "notebookMetadata": {
    "mostRecentlyExecutedCommandWithImplicitDF": {
     "commandId": -1,
     "dataframes": [
      "_sqldf"
     ]
    },
    "pythonIndentUnit": 4
   },
   "notebookName": "1_ingest_clean",
   "widgets": {}
  },
  "language_info": {
   "name": "python"
  }
 },
 "nbformat": 4,
 "nbformat_minor": 0
}